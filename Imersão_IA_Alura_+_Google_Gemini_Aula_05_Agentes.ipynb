{
  "nbformat": 4,
  "nbformat_minor": 0,
  "metadata": {
    "colab": {
      "provenance": [],
      "include_colab_link": true
    },
    "kernelspec": {
      "name": "python3",
      "display_name": "Python 3"
    },
    "language_info": {
      "name": "python"
    }
  },
  "cells": [
    {
      "cell_type": "markdown",
      "metadata": {
        "id": "view-in-github",
        "colab_type": "text"
      },
      "source": [
        "<a href=\"https://colab.research.google.com/github/carlosbazilio/ia/blob/main/Imers%C3%A3o_IA_Alura_%2B_Google_Gemini_Aula_05_Agentes.ipynb\" target=\"_parent\"><img src=\"https://colab.research.google.com/assets/colab-badge.svg\" alt=\"Open In Colab\"/></a>"
      ]
    },
    {
      "cell_type": "code",
      "source": [
        "%pip -q install google-genai"
      ],
      "metadata": {
        "id": "UCCbECexLk_h"
      },
      "execution_count": 1,
      "outputs": []
    },
    {
      "cell_type": "code",
      "source": [
        "# Configura a API Key do Google Gemini\n",
        "\n",
        "import os\n",
        "from google.colab import userdata\n",
        "\n",
        "os.environ[\"GOOGLE_API_KEY\"] = userdata.get('GOOGLE_API_KEY_1')"
      ],
      "metadata": {
        "id": "NfCqHo1tLk8P"
      },
      "execution_count": 3,
      "outputs": []
    },
    {
      "cell_type": "code",
      "source": [
        "# Configura o cliente da SDK do Gemini\n",
        "\n",
        "from google import genai\n",
        "\n",
        "client = genai.Client()\n",
        "\n",
        "MODEL_ID = \"gemini-2.0-flash\""
      ],
      "metadata": {
        "id": "bV4w0H5TLk5g"
      },
      "execution_count": 4,
      "outputs": []
    },
    {
      "cell_type": "code",
      "source": [
        "# Pergunta ao Gemini uma informação mais recente que seu conhecimento\n",
        "\n",
        "from IPython.display import HTML, Markdown\n",
        "\n",
        "# Perguntar pro modelo quando é a próxima imersão de IA ###############################################\n",
        "resposta = client.models.generate_content(\n",
        "    model=MODEL_ID,\n",
        "    contents='Quando é a próxima Imersão IA com Google Gemini da Alura?',\n",
        ")\n",
        "\n",
        "# Exibe a resposta na tela\n",
        "display(Markdown(f\"Resposta:\\n {resposta.text}\"))"
      ],
      "metadata": {
        "id": "HwVP7Xi34Zuw",
        "colab": {
          "base_uri": "https://localhost:8080/",
          "height": 151
        },
        "outputId": "59b00eab-0a28-4ccb-a44b-15a9cf0b1aae"
      },
      "execution_count": 8,
      "outputs": [
        {
          "output_type": "display_data",
          "data": {
            "text/plain": [
              "<IPython.core.display.Markdown object>"
            ],
            "text/markdown": "Resposta:\n A Alura não tem uma data fixa para a Imersão IA com Google Gemini. Para saber quando será a próxima edição, o melhor é:\n\n*   **Acompanhar as redes sociais da Alura:** Fique de olho nos perfis da Alura no Instagram, LinkedIn, Twitter (X) e Facebook. Eles costumam anunciar novos cursos e imersões por lá.\n*   **Assinar a newsletter da Alura:** Assim você recebe novidades e promoções diretamente no seu e-mail.\n*   **Visitar o site da Alura:** Verifique a página de cursos de Inteligência Artificial e a seção de \"próximos cursos\" ou \"imersões\".\n\nAssim que a data for definida, a Alura certamente divulgará nesses canais!"
          },
          "metadata": {}
        }
      ]
    },
    {
      "cell_type": "code",
      "source": [
        "# Pergunta ao Gemini uma informação utilizando a busca do Google como contexto\n",
        "\n",
        "response = client.models.generate_content(\n",
        "    model=MODEL_ID,\n",
        "    contents='Quando é a próxima Imersão IA com Google Gemini da Alura?',\n",
        "    config={\"tools\" : [{\"google_search\" : {}}]}\n",
        ")\n",
        "\n",
        "# Exibe a resposta na tela\n",
        "display(Markdown(f\"Resposta:\\n {response.text}\"))"
      ],
      "metadata": {
        "id": "yXaZd7iZ4ftw",
        "colab": {
          "base_uri": "https://localhost:8080/",
          "height": 133
        },
        "outputId": "2b1a197c-689f-453f-bd42-92fd59ee637a"
      },
      "execution_count": 9,
      "outputs": [
        {
          "output_type": "display_data",
          "data": {
            "text/plain": [
              "<IPython.core.display.Markdown object>"
            ],
            "text/markdown": "Resposta:\n Com base nas informações encontradas, a Alura e o Google realizaram algumas edições da Imersão IA com Google Gemini.\n\n*   **Imersão IA:** Uma edição ocorreu em maio de 2024.\n*   **Imersão Dev com Gemini:** Outra edição foi realizada em setembro de 2024.\n*   **Edição Recente:** A live de abertura da Imersão IA mais recente ocorreu em 9 de maio de 2025.\n\nPara saber sobre as próximas edições, o ideal é acompanhar os canais de comunicação da Alura, como o site oficial e o canal do YouTube."
          },
          "metadata": {}
        }
      ]
    },
    {
      "cell_type": "code",
      "source": [
        "# Exibe a busca\n",
        "print(f\"Busca realizada: {response.candidates[0].grounding_metadata.web_search_queries}\")\n",
        "# Exibe as URLs nas quais ele se baseou\n",
        "print(f\"Páginas utilizadas na resposta: {', '.join([site.web.title for site in response.candidates[0].grounding_metadata.grounding_chunks])}\")\n",
        "print()\n",
        "display(HTML(response.candidates[0].grounding_metadata.search_entry_point.rendered_content))"
      ],
      "metadata": {
        "id": "xHSNlTd84heJ",
        "colab": {
          "base_uri": "https://localhost:8080/",
          "height": 121
        },
        "outputId": "222c2bf3-a4dc-4e0a-a465-be9168a598d2"
      },
      "execution_count": 10,
      "outputs": [
        {
          "output_type": "stream",
          "name": "stdout",
          "text": [
            "Busca realizada: ['próxima imersão IA com Google Gemini Alura']\n",
            "Páginas utilizadas na resposta: alura.com.br, youtube.com, youtube.com, educacao.mg.gov.br, youtube.com\n",
            "\n"
          ]
        },
        {
          "output_type": "display_data",
          "data": {
            "text/plain": [
              "<IPython.core.display.HTML object>"
            ],
            "text/html": [
              "<style>\n",
              ".container {\n",
              "  align-items: center;\n",
              "  border-radius: 8px;\n",
              "  display: flex;\n",
              "  font-family: Google Sans, Roboto, sans-serif;\n",
              "  font-size: 14px;\n",
              "  line-height: 20px;\n",
              "  padding: 8px 12px;\n",
              "}\n",
              ".chip {\n",
              "  display: inline-block;\n",
              "  border: solid 1px;\n",
              "  border-radius: 16px;\n",
              "  min-width: 14px;\n",
              "  padding: 5px 16px;\n",
              "  text-align: center;\n",
              "  user-select: none;\n",
              "  margin: 0 8px;\n",
              "  -webkit-tap-highlight-color: transparent;\n",
              "}\n",
              ".carousel {\n",
              "  overflow: auto;\n",
              "  scrollbar-width: none;\n",
              "  white-space: nowrap;\n",
              "  margin-right: -12px;\n",
              "}\n",
              ".headline {\n",
              "  display: flex;\n",
              "  margin-right: 4px;\n",
              "}\n",
              ".gradient-container {\n",
              "  position: relative;\n",
              "}\n",
              ".gradient {\n",
              "  position: absolute;\n",
              "  transform: translate(3px, -9px);\n",
              "  height: 36px;\n",
              "  width: 9px;\n",
              "}\n",
              "@media (prefers-color-scheme: light) {\n",
              "  .container {\n",
              "    background-color: #fafafa;\n",
              "    box-shadow: 0 0 0 1px #0000000f;\n",
              "  }\n",
              "  .headline-label {\n",
              "    color: #1f1f1f;\n",
              "  }\n",
              "  .chip {\n",
              "    background-color: #ffffff;\n",
              "    border-color: #d2d2d2;\n",
              "    color: #5e5e5e;\n",
              "    text-decoration: none;\n",
              "  }\n",
              "  .chip:hover {\n",
              "    background-color: #f2f2f2;\n",
              "  }\n",
              "  .chip:focus {\n",
              "    background-color: #f2f2f2;\n",
              "  }\n",
              "  .chip:active {\n",
              "    background-color: #d8d8d8;\n",
              "    border-color: #b6b6b6;\n",
              "  }\n",
              "  .logo-dark {\n",
              "    display: none;\n",
              "  }\n",
              "  .gradient {\n",
              "    background: linear-gradient(90deg, #fafafa 15%, #fafafa00 100%);\n",
              "  }\n",
              "}\n",
              "@media (prefers-color-scheme: dark) {\n",
              "  .container {\n",
              "    background-color: #1f1f1f;\n",
              "    box-shadow: 0 0 0 1px #ffffff26;\n",
              "  }\n",
              "  .headline-label {\n",
              "    color: #fff;\n",
              "  }\n",
              "  .chip {\n",
              "    background-color: #2c2c2c;\n",
              "    border-color: #3c4043;\n",
              "    color: #fff;\n",
              "    text-decoration: none;\n",
              "  }\n",
              "  .chip:hover {\n",
              "    background-color: #353536;\n",
              "  }\n",
              "  .chip:focus {\n",
              "    background-color: #353536;\n",
              "  }\n",
              "  .chip:active {\n",
              "    background-color: #464849;\n",
              "    border-color: #53575b;\n",
              "  }\n",
              "  .logo-light {\n",
              "    display: none;\n",
              "  }\n",
              "  .gradient {\n",
              "    background: linear-gradient(90deg, #1f1f1f 15%, #1f1f1f00 100%);\n",
              "  }\n",
              "}\n",
              "</style>\n",
              "<div class=\"container\">\n",
              "  <div class=\"headline\">\n",
              "    <svg class=\"logo-light\" width=\"18\" height=\"18\" viewBox=\"9 9 35 35\" fill=\"none\" xmlns=\"http://www.w3.org/2000/svg\">\n",
              "      <path fill-rule=\"evenodd\" clip-rule=\"evenodd\" d=\"M42.8622 27.0064C42.8622 25.7839 42.7525 24.6084 42.5487 23.4799H26.3109V30.1568H35.5897C35.1821 32.3041 33.9596 34.1222 32.1258 35.3448V39.6864H37.7213C40.9814 36.677 42.8622 32.2571 42.8622 27.0064V27.0064Z\" fill=\"#4285F4\"/>\n",
              "      <path fill-rule=\"evenodd\" clip-rule=\"evenodd\" d=\"M26.3109 43.8555C30.9659 43.8555 34.8687 42.3195 37.7213 39.6863L32.1258 35.3447C30.5898 36.3792 28.6306 37.0061 26.3109 37.0061C21.8282 37.0061 18.0195 33.9811 16.6559 29.906H10.9194V34.3573C13.7563 39.9841 19.5712 43.8555 26.3109 43.8555V43.8555Z\" fill=\"#34A853\"/>\n",
              "      <path fill-rule=\"evenodd\" clip-rule=\"evenodd\" d=\"M16.6559 29.8904C16.3111 28.8559 16.1074 27.7588 16.1074 26.6146C16.1074 25.4704 16.3111 24.3733 16.6559 23.3388V18.8875H10.9194C9.74388 21.2072 9.06992 23.8247 9.06992 26.6146C9.06992 29.4045 9.74388 32.022 10.9194 34.3417L15.3864 30.8621L16.6559 29.8904V29.8904Z\" fill=\"#FBBC05\"/>\n",
              "      <path fill-rule=\"evenodd\" clip-rule=\"evenodd\" d=\"M26.3109 16.2386C28.85 16.2386 31.107 17.1164 32.9095 18.8091L37.8466 13.8719C34.853 11.082 30.9659 9.3736 26.3109 9.3736C19.5712 9.3736 13.7563 13.245 10.9194 18.8875L16.6559 23.3388C18.0195 19.2636 21.8282 16.2386 26.3109 16.2386V16.2386Z\" fill=\"#EA4335\"/>\n",
              "    </svg>\n",
              "    <svg class=\"logo-dark\" width=\"18\" height=\"18\" viewBox=\"0 0 48 48\" xmlns=\"http://www.w3.org/2000/svg\">\n",
              "      <circle cx=\"24\" cy=\"23\" fill=\"#FFF\" r=\"22\"/>\n",
              "      <path d=\"M33.76 34.26c2.75-2.56 4.49-6.37 4.49-11.26 0-.89-.08-1.84-.29-3H24.01v5.99h8.03c-.4 2.02-1.5 3.56-3.07 4.56v.75l3.91 2.97h.88z\" fill=\"#4285F4\"/>\n",
              "      <path d=\"M15.58 25.77A8.845 8.845 0 0 0 24 31.86c1.92 0 3.62-.46 4.97-1.31l4.79 3.71C31.14 36.7 27.65 38 24 38c-5.93 0-11.01-3.4-13.45-8.36l.17-1.01 4.06-2.85h.8z\" fill=\"#34A853\"/>\n",
              "      <path d=\"M15.59 20.21a8.864 8.864 0 0 0 0 5.58l-5.03 3.86c-.98-2-1.53-4.25-1.53-6.64 0-2.39.55-4.64 1.53-6.64l1-.22 3.81 2.98.22 1.08z\" fill=\"#FBBC05\"/>\n",
              "      <path d=\"M24 14.14c2.11 0 4.02.75 5.52 1.98l4.36-4.36C31.22 9.43 27.81 8 24 8c-5.93 0-11.01 3.4-13.45 8.36l5.03 3.85A8.86 8.86 0 0 1 24 14.14z\" fill=\"#EA4335\"/>\n",
              "    </svg>\n",
              "    <div class=\"gradient-container\"><div class=\"gradient\"></div></div>\n",
              "  </div>\n",
              "  <div class=\"carousel\">\n",
              "    <a class=\"chip\" href=\"https://vertexaisearch.cloud.google.com/grounding-api-redirect/AbF9wXGEIoucZ8P5FPFGR6A8rLFZnu-Hy9m3Z1Zyn6ug52phv8MtU2W5UrBVYisxAFV8dqFpYMB27TmcTP74gPLEPC6RcAAIQuGDh6t-bbsN_bxMV7_VHvhGQJoHbcCEu68Bp1IHEJ-ppXQd5gLApJR1yyHi3TgPxtvXhpLFlMtKuV4JiSc7wWBcFN6p5XPaZNTSp4qjJYdQ9NcmRubePuMeTD0b_AtaQlLnWXr0sk7BpJN15JR7CA4Gl6Yp\">próxima imersão IA com Google Gemini Alura</a>\n",
              "  </div>\n",
              "</div>\n"
            ]
          },
          "metadata": {}
        }
      ]
    },
    {
      "cell_type": "code",
      "source": [
        "# Instalar Framework ADK de agentes do Google ################################################\n",
        "!pip install -q google-adk"
      ],
      "metadata": {
        "id": "hvZ3UnPI4jhJ",
        "colab": {
          "base_uri": "https://localhost:8080/"
        },
        "outputId": "8f826e10-35c2-4e48-c101-39c0d7a50893"
      },
      "execution_count": 11,
      "outputs": [
        {
          "output_type": "stream",
          "name": "stdout",
          "text": [
            "\u001b[?25l   \u001b[90m━━━━━━━━━━━━━━━━━━━━━━━━━━━━━━━━━━━━━━━━\u001b[0m \u001b[32m0.0/1.2 MB\u001b[0m \u001b[31m?\u001b[0m eta \u001b[36m-:--:--\u001b[0m\r\u001b[2K   \u001b[90m━━━━━━━━━━━━━━━━━━━━━━━━━━━━━━━━━━━━━━━━\u001b[0m \u001b[32m1.2/1.2 MB\u001b[0m \u001b[31m54.3 MB/s\u001b[0m eta \u001b[36m0:00:00\u001b[0m\n",
            "\u001b[?25h\u001b[?25l   \u001b[90m━━━━━━━━━━━━━━━━━━━━━━━━━━━━━━━━━━━━━━━━\u001b[0m \u001b[32m0.0/232.1 kB\u001b[0m \u001b[31m?\u001b[0m eta \u001b[36m-:--:--\u001b[0m\r\u001b[2K   \u001b[90m━━━━━━━━━━━━━━━━━━━━━━━━━━━━━━━━━━━━━━━━\u001b[0m \u001b[32m232.1/232.1 kB\u001b[0m \u001b[31m16.8 MB/s\u001b[0m eta \u001b[36m0:00:00\u001b[0m\n",
            "\u001b[?25h\u001b[?25l   \u001b[90m━━━━━━━━━━━━━━━━━━━━━━━━━━━━━━━━━━━━━━━━\u001b[0m \u001b[32m0.0/95.2 kB\u001b[0m \u001b[31m?\u001b[0m eta \u001b[36m-:--:--\u001b[0m\r\u001b[2K   \u001b[90m━━━━━━━━━━━━━━━━━━━━━━━━━━━━━━━━━━━━━━━━\u001b[0m \u001b[32m95.2/95.2 kB\u001b[0m \u001b[31m9.7 MB/s\u001b[0m eta \u001b[36m0:00:00\u001b[0m\n",
            "\u001b[?25h\u001b[?25l   \u001b[90m━━━━━━━━━━━━━━━━━━━━━━━━━━━━━━━━━━━━━━━━\u001b[0m \u001b[32m0.0/217.1 kB\u001b[0m \u001b[31m?\u001b[0m eta \u001b[36m-:--:--\u001b[0m\r\u001b[2K   \u001b[90m━━━━━━━━━━━━━━━━━━━━━━━━━━━━━━━━━━━━━━━━\u001b[0m \u001b[32m217.1/217.1 kB\u001b[0m \u001b[31m21.7 MB/s\u001b[0m eta \u001b[36m0:00:00\u001b[0m\n",
            "\u001b[?25h\u001b[?25l   \u001b[90m━━━━━━━━━━━━━━━━━━━━━━━━━━━━━━━━━━━━━━━━\u001b[0m \u001b[32m0.0/334.1 kB\u001b[0m \u001b[31m?\u001b[0m eta \u001b[36m-:--:--\u001b[0m\r\u001b[2K   \u001b[90m━━━━━━━━━━━━━━━━━━━━━━━━━━━━━━━━━━━━━━━━\u001b[0m \u001b[32m334.1/334.1 kB\u001b[0m \u001b[31m28.4 MB/s\u001b[0m eta \u001b[36m0:00:00\u001b[0m\n",
            "\u001b[?25h\u001b[?25l   \u001b[90m━━━━━━━━━━━━━━━━━━━━━━━━━━━━━━━━━━━━━━━━\u001b[0m \u001b[32m0.0/125.1 kB\u001b[0m \u001b[31m?\u001b[0m eta \u001b[36m-:--:--\u001b[0m\r\u001b[2K   \u001b[90m━━━━━━━━━━━━━━━━━━━━━━━━━━━━━━━━━━━━━━━━\u001b[0m \u001b[32m125.1/125.1 kB\u001b[0m \u001b[31m12.9 MB/s\u001b[0m eta \u001b[36m0:00:00\u001b[0m\n",
            "\u001b[2K   \u001b[90m━━━━━━━━━━━━━━━━━━━━━━━━━━━━━━━━━━━━━━━━\u001b[0m \u001b[32m65.8/65.8 kB\u001b[0m \u001b[31m6.0 MB/s\u001b[0m eta \u001b[36m0:00:00\u001b[0m\n",
            "\u001b[2K   \u001b[90m━━━━━━━━━━━━━━━━━━━━━━━━━━━━━━━━━━━━━━━━\u001b[0m \u001b[32m119.0/119.0 kB\u001b[0m \u001b[31m11.6 MB/s\u001b[0m eta \u001b[36m0:00:00\u001b[0m\n",
            "\u001b[2K   \u001b[90m━━━━━━━━━━━━━━━━━━━━━━━━━━━━━━━━━━━━━━━━\u001b[0m \u001b[32m194.9/194.9 kB\u001b[0m \u001b[31m18.2 MB/s\u001b[0m eta \u001b[36m0:00:00\u001b[0m\n",
            "\u001b[2K   \u001b[90m━━━━━━━━━━━━━━━━━━━━━━━━━━━━━━━━━━━━━━━━\u001b[0m \u001b[32m62.5/62.5 kB\u001b[0m \u001b[31m6.0 MB/s\u001b[0m eta \u001b[36m0:00:00\u001b[0m\n",
            "\u001b[2K   \u001b[90m━━━━━━━━━━━━━━━━━━━━━━━━━━━━━━━━━━━━━━━━\u001b[0m \u001b[32m103.3/103.3 kB\u001b[0m \u001b[31m10.4 MB/s\u001b[0m eta \u001b[36m0:00:00\u001b[0m\n",
            "\u001b[2K   \u001b[90m━━━━━━━━━━━━━━━━━━━━━━━━━━━━━━━━━━━━━━━━\u001b[0m \u001b[32m44.4/44.4 kB\u001b[0m \u001b[31m4.4 MB/s\u001b[0m eta \u001b[36m0:00:00\u001b[0m\n",
            "\u001b[2K   \u001b[90m━━━━━━━━━━━━━━━━━━━━━━━━━━━━━━━━━━━━━━━━\u001b[0m \u001b[32m72.0/72.0 kB\u001b[0m \u001b[31m6.9 MB/s\u001b[0m eta \u001b[36m0:00:00\u001b[0m\n",
            "\u001b[?25h"
          ]
        }
      ]
    },
    {
      "cell_type": "code",
      "execution_count": 12,
      "metadata": {
        "id": "aePV2bdfDeoW"
      },
      "outputs": [],
      "source": [
        "from google.adk.agents import Agent\n",
        "from google.adk.runners import Runner\n",
        "from google.adk.sessions import InMemorySessionService\n",
        "from google.adk.tools import google_search\n",
        "from google.genai import types  # Para criar conteúdos (Content e Part)\n",
        "from datetime import date\n",
        "import textwrap # Para formatar melhor a saída de texto\n",
        "from IPython.display import display, Markdown # Para exibir texto formatado no Colab\n",
        "import requests # Para fazer requisições HTTP\n",
        "import warnings\n",
        "\n",
        "warnings.filterwarnings(\"ignore\")"
      ]
    },
    {
      "cell_type": "code",
      "source": [
        "# Função auxiliar que envia uma mensagem para um agente via Runner e retorna a resposta final\n",
        "def call_agent(agent: Agent, message_text: str) -> str:\n",
        "    # Cria um serviço de sessão em memória\n",
        "    session_service = InMemorySessionService()\n",
        "    # Cria uma nova sessão (você pode personalizar os IDs conforme necessário)\n",
        "    session = session_service.create_session(app_name=agent.name, user_id=\"user1\", session_id=\"session1\")\n",
        "    # Cria um Runner para o agente\n",
        "    runner = Runner(agent=agent, app_name=agent.name, session_service=session_service)\n",
        "    # Cria o conteúdo da mensagem de entrada\n",
        "    content = types.Content(role=\"user\", parts=[types.Part(text=message_text)])\n",
        "\n",
        "    final_response = \"\"\n",
        "    # Itera assincronamente pelos eventos retornados durante a execução do agente\n",
        "    for event in runner.run(user_id=\"user1\", session_id=\"session1\", new_message=content):\n",
        "        if event.is_final_response():\n",
        "            for part in event.content.parts:\n",
        "                if part.text is not None:\n",
        "                    final_response += part.text\n",
        "                    final_response += \"\\n\"\n",
        "    return final_response"
      ],
      "metadata": {
        "id": "_xP4lWhsS5ko"
      },
      "execution_count": 13,
      "outputs": []
    },
    {
      "cell_type": "code",
      "source": [
        "# Função auxiliar para exibir texto formatado em Markdown no Colab\n",
        "def to_markdown(text):\n",
        "    text = text.replace('•', '  *')\n",
        "    return Markdown(textwrap.indent(text, '> ', predicate=lambda _: True))"
      ],
      "metadata": {
        "id": "8dosiodaxfFR"
      },
      "execution_count": 14,
      "outputs": []
    },
    {
      "cell_type": "code",
      "source": [
        "##########################################\n",
        "# --- Agente 1: Buscador de Notícias --- #\n",
        "##########################################\n",
        "def agente_buscador(topico, data):\n",
        "    buscador = Agent(\n",
        "        name=\"agente_buscador\",\n",
        "        model=\"gemini-2.0-flash\",\n",
        "        description=\"Agente que busca informações no Google\",\n",
        "        tools=[google_search],\n",
        "        instruction='''\n",
        "        Você é uma ferramenta de pesquisa. A sua tarefa é usar a ferramenta de pesquisa do Google (google_search),\n",
        "        para recuperar as últimas notícias muito relevantes sobre o tópico abaixo.\n",
        "        Foque no máximo em 5 lançamentos relevantes, com base na quantidade e entusiasmo das notícias sobre eles.\n",
        "        Se um tema tiver poucas notícias ou reações entusiasmadas, é possíve que ele não tenha tanta relevância\n",
        "        assim e pode ser substituído por outros que tenham mais relevância.\n",
        "        Esses lançamentos relevantes devem ser atuais com no máximo 1 mês de lançamento da data de hoje.\n",
        "        '''\n",
        "    )\n",
        "    entrada_do_agente_buscador = f\"Tópico: {topico}\\n Data: {data}\\n\"\n",
        "    lancamentos = call_agent(\n",
        "        agent=buscador,\n",
        "        message_text=entrada_do_agente_buscador\n",
        "    )\n",
        "    return lancamentos"
      ],
      "metadata": {
        "id": "o8bqIfi_DyH8"
      },
      "execution_count": 16,
      "outputs": []
    },
    {
      "cell_type": "code",
      "source": [
        "################################################\n",
        "# --- Agente 2: Planejador de posts --- #\n",
        "################################################\n",
        "def agente_planejador(topico, lancamentos_buscados):\n",
        "    planejador = Agent(\n",
        "        name=\"agente_planejador\",\n",
        "        model=\"gemini-2.0-flash\",\n",
        "        # Inserir as instruções do Agente Planejador #################################################\n",
        "        instruction=\"\"\"\n",
        "        Você é um planejador de conteúdo, especialista em redes sociais. Com base na lista de\n",
        "        lançamentos mais recentes e relevantes buscador, você deve:\n",
        "        usar a ferramenta de busca do Google (google_search) para criar um plano sobre\n",
        "        quais são os pontos mais relevantes que poderíamos abordar em um post sobre\n",
        "        cada um deles. Você também pode usar o (google_search) para encontrar mais\n",
        "        informações sobre os temas e aprofundar.\n",
        "        Ao final, você irá escolher o tema mais relevante entre eles com base nas suas pesquisas\n",
        "        e retornar esse tema, seus pontos mais relevantes, e um plano com os assuntos\n",
        "        a serem abordados no post que será escrito posteriormente.\n",
        "        \"\"\",\n",
        "        description=\"Agente que planeja posts\",\n",
        "        tools=[google_search]\n",
        "    )\n",
        "\n",
        "    entrada_do_agente_planejador = f\"Tópico:{topico}\\nLançamentos buscados: {lancamentos_buscados}\"\n",
        "    # Executa o agente\n",
        "    plano_do_post = call_agent(planejador, entrada_do_agente_planejador)\n",
        "    return plano_do_post"
      ],
      "metadata": {
        "id": "y3VO1uo5_ghO"
      },
      "execution_count": 17,
      "outputs": []
    },
    {
      "cell_type": "code",
      "source": [
        "######################################\n",
        "# --- Agente 3: Redator do Post --- #\n",
        "######################################\n",
        "def agente_redator(topico, plano_de_post):\n",
        "    redator = Agent(\n",
        "        name=\"agente_redator\",\n",
        "        model=\"gemini-2.0-flash\",\n",
        "        instruction=\"\"\"\n",
        "            Você é um Redator Criativo especializado em criar posts virais para redes sociais.\n",
        "            Você escreve posts para a empresa Alura, a maior escola online de tecnologia do Brasil.\n",
        "            Utilize o tema fornecido no plano de post e os pontos mais relevantes fornecidos e, com base nisso,\n",
        "            escreva um rascunho de post para Instagram sobre o tema indicado.\n",
        "            O post deve ser engajador, informativo, com linguagem simples e incluir 2 a 4 hashtags no final.\n",
        "            \"\"\",\n",
        "        description=\"Agente redator de posts engajadores para Instagram\"\n",
        "    )\n",
        "    entrada_do_agente_redator = f\"Tópico: {topico}\\nPlano de post: {plano_de_post}\"\n",
        "    # Executa o agente\n",
        "    rascunho = call_agent(redator, entrada_do_agente_redator)\n",
        "    return rascunho"
      ],
      "metadata": {
        "id": "uOqlg2TRLVh1"
      },
      "execution_count": 23,
      "outputs": []
    },
    {
      "cell_type": "code",
      "source": [
        "##########################################\n",
        "# --- Agente 4: Revisor de Qualidade --- #\n",
        "##########################################\n",
        "def agente_revisor(topico, rascunho_gerado):\n",
        "    revisor = Agent(\n",
        "        name=\"agente_revisor\",\n",
        "        model=\"gemini-2.0-flash\",\n",
        "        instruction=\"\"\"\n",
        "            Você é um Editor e Revisor de Conteúdo meticuloso, especializado em posts para redes sociais, com foco no Instagram.\n",
        "            Por ter um público jovem, entre 18 e 30 anos, use um tom de escrita adequado.\n",
        "            Revise o rascunho de post de Instagram abaixo sobre o tópico indicado, verificando clareza, concisão, correção e tom.\n",
        "            Se o rascunho estiver bom, responda apenas 'O rascunho está ótimo e pronto para publicar!'.\n",
        "            Caso haja problemas, aponte-os e sugira melhorias.\n",
        "            \"\"\",\n",
        "        description=\"Agente revisor de post para redes sociais.\"\n",
        "    )\n",
        "    entrada_do_agente_revisor = f\"Tópico: {topico}\\nRascunho: {rascunho_gerado}\"\n",
        "    # Executa o agente\n",
        "    texto_revisado = call_agent(revisor, entrada_do_agente_revisor)\n",
        "    return texto_revisado"
      ],
      "metadata": {
        "id": "_aTb1SdkLeT6"
      },
      "execution_count": 24,
      "outputs": []
    },
    {
      "cell_type": "code",
      "source": [
        "data_de_hoje = date.today().strftime(\"%d/%m/%Y\")\n",
        "\n",
        "print(\"🚀 Iniciando o Sistema de Criação de Posts para Instagram com 4 Agentes 🚀\")\n",
        "\n",
        "# --- Obter o Tópico do Usuário ---\n",
        "topico = input(\"❓ Por favor, digite o TÓPICO sobre o qual você quer criar o post de tendências: \")\n",
        "\n",
        "# Inserir lógica do sistema de agentes ################################################\n",
        "while not topico:\n",
        "    print(\"Esqueceu de fornecer o tópico\")\n",
        "\n",
        "print(f\"Maravilha! Vamos criar o post com novidades sobre {topico}!\")\n",
        "\n",
        "lancamentos_buscados = agente_buscador(topico, data_de_hoje)\n",
        "print(\"\\n--- 📝 Resultado do Agente 1 (Buscador) ---\\n\")\n",
        "display(to_markdown(lancamentos_buscados))\n",
        "print(\"--------------------------------------------------------------\")\n",
        "\n",
        "plano_de_post = agente_planejador(topico, lancamentos_buscados)\n",
        "print(\"\\n--- 📝 Resultado do Agente 2 (Planejador) ---\\n\")\n",
        "display(to_markdown(plano_de_post))\n",
        "print(\"--------------------------------------------------------------\")\n",
        "\n",
        "rascunho_de_post = agente_redator(topico, plano_de_post)\n",
        "print(\"\\n--- 📝 Resultado do Agente 3 (Redator) ---\\n\")\n",
        "display(to_markdown(rascunho_de_post))\n",
        "print(\"--------------------------------------------------------------\")\n",
        "\n",
        "post_final = agente_revisor(topico, rascunho_de_post)\n",
        "print(\"\\n--- 📝 Resultado do Agente 4 (Revisor) ---\\n\")\n",
        "display(to_markdown(post_final))\n",
        "print(\"--------------------------------------------------------------\")\n"
      ],
      "metadata": {
        "id": "630ummxz4myx",
        "colab": {
          "base_uri": "https://localhost:8080/",
          "height": 1000
        },
        "outputId": "59bea36e-0c8d-4b8f-f916-6aa2af0a12f7"
      },
      "execution_count": 25,
      "outputs": [
        {
          "output_type": "stream",
          "name": "stdout",
          "text": [
            "🚀 Iniciando o Sistema de Criação de Posts para Instagram com 4 Agentes 🚀\n",
            "❓ Por favor, digite o TÓPICO sobre o qual você quer criar o post de tendências: agentes de IA\n",
            "Maravilha! Vamos criar o post com novidades sobre agentes de IA!\n",
            "\n",
            "--- 📝 Resultado do Agente 1 (Buscador) ---\n",
            "\n"
          ]
        },
        {
          "output_type": "display_data",
          "data": {
            "text/plain": [
              "<IPython.core.display.Markdown object>"
            ],
            "text/markdown": "> Aqui estão alguns lançamentos recentes e relevantes relacionados a agentes de IA:\n> \n> \n> Com base nas notícias mais recentes sobre agentes de IA, aqui estão alguns lançamentos e tendências relevantes:\n> \n> 1.  **Adoção e Impacto no Mercado:**\n>     *   2025 é visto como o ano em que os agentes de IA estão saindo dos bastidores, com setores como e-commerce, atendimento ao cliente, marketing e finanças incorporando-os cada vez mais.\n>     *   O investimento global em IA está na casa dos bilhões, com o Brasil acompanhando essa tendência através do Plano Brasileiro de Inteligência Artificial.\n>     *   Espera-se que os sistemas multiagentes, onde vários agentes de IA colaboram para atingir objetivos complexos, se tornem mais proeminentes em 2025.\n>     *   Empresas de diversos setores estão integrando agentes de IA para simplificar tarefas, otimizar recursos e transformar a gestão de processos.\n> 2.  **Plataformas e Ferramentas:**\n>     *   A OpenAI lançou uma nova plataforma para agentes de IA que executam tarefas no mundo real, permitindo que os agentes pesquisem na web, analisem documentos e controlem funções do computador.\n>     *   Ferramentas como Dify, CrewAI, Synthflow e LangChain estão sendo utilizadas para criar agentes de IA poderosos.\n>     *   A IBM está oferecendo soluções para integrar, personalizar e implantar agentes através do watsonx Orchestrate, juntamente com o Agent Catalog que inclui mais de 150 agentes e ferramentas.\n>     *   O Red Hat AI oferece uma plataforma empresarial para o treinamento e inferência de modelos, proporcionando eficiência e flexibilidade na implementação de agentes em ambientes de nuvem híbrida.\n> 3.  **Tendências e Avanços:**\n>     *   Espera-se que os agentes de IA se tornem mais avançados, preenchendo a lacuna para a Inteligência Artificial Geral (AGI), aprendendo continuamente, adaptando-se a ambientes dinâmicos e tomando decisões independentes.\n>     *   A Microsoft prevê que uma nova geração de agentes de IA poderá lidar com várias tarefas, inclusive de forma autônoma, transformando processos de negócios.\n>     *   A IA generativa está sendo utilizada para criar agentes capazes de gerar conteúdo único e personalizado para interagir com usuários.\n>     *   Agentes de IA estão evoluindo para além de assistentes, assumindo funções decisórias e impactando desde a escolha de plataformas até a negociação de preços.\n> 4.  **Aplicações Práticas:**\n>     *   Agentes de IA estão sendo aplicados em áreas como logística, atendimento ao cliente, marketing digital e no setor contábil e financeiro para automatizar tarefas repetitivas e analisar dados.\n>     *   Na área da saúde, auxiliam na interação com pacientes, na realização de planos de tratamento, na redução do tempo de resposta e na diminuição do custo operacional.\n>     *   No setor financeiro, podem realocar fundos automaticamente com base em déficits de liquidez previstos, acelerando a tomada de decisões empresariais.\n> 5.  **Desafios e Considerações:**\n>     *   Questões como privacidade de dados, regulamentação e impacto no mercado de trabalho exigem um debate amplo para garantir que o avanço tecnológico seja inclusivo e sustentável.\n>     *   É fundamental garantir a transparência nos processos e manter a segurança dos dados sensíveis ao implementar agentes de IA.\n>     *   As empresas precisam investir em treinamento de equipes para adaptar-se à nova realidade digital e explorar o potencial máximo dessa tecnologia.\n> \n"
          },
          "metadata": {}
        },
        {
          "output_type": "stream",
          "name": "stdout",
          "text": [
            "--------------------------------------------------------------\n",
            "\n",
            "--- 📝 Resultado do Agente 2 (Planejador) ---\n",
            "\n"
          ]
        },
        {
          "output_type": "display_data",
          "data": {
            "text/plain": [
              "<IPython.core.display.Markdown object>"
            ],
            "text/markdown": "> Com certeza! Para criar um plano de conteúdo sobre agentes de IA, vou usar as informações que você me forneceu e realizar algumas pesquisas adicionais para identificar os pontos mais relevantes e criar um plano de postagem eficaz.\n> \n> \n> Com base nas informações fornecidas e nas pesquisas realizadas, o tema mais relevante para um post sobre agentes de IA é:\n> \n> **Tema:** Agentes de IA: Aplicações Práticas e o Impacto no Futuro do Trabalho\n> \n> **Pontos Relevantes:**\n> \n> *   **O que são agentes de IA:** Sistemas autônomos que observam o ambiente, tomam decisões e executam ações para atingir objetivos. Diferença entre IA e agentes de IA.\n> *   **Aplicações Práticas:**\n>     *   E-commerce, atendimento ao cliente, marketing e finanças.\n>     *   Logística, saúde, setor contábil e financeiro.\n>     *   Exemplos de uso em empresas como Johnson & Johnson, Moody's e eBay.\n> *   **Impacto no Mercado de Trabalho:**\n>     *   Automação de tarefas repetitivas e impacto em diversas profissões.\n>     *   Necessidade de desenvolver competências humanas como criatividade e adaptabilidade.\n>     *   IA como ferramenta de auxílio e não apenas de substituição.\n> *   **Desafios e Considerações Éticas:**\n>     *   Privacidade de dados, viés algorítmico e transparência.\n>     *   Regulamentação e necessidade de garantir um avanço tecnológico inclusivo e sustentável.\n> \n> **Plano de Conteúdo:**\n> \n> 1.  **Introdução:**\n>     *   O que são agentes de IA e como eles se diferenciam da IA tradicional.\n>     *   A crescente relevância dos agentes de IA em 2025.\n> 2.  **Aplicações Práticas em Diversos Setores:**\n>     *   Exemplos de uso em e-commerce, atendimento ao cliente e marketing.\n>     *   Aplicações na área da saúde, finanças e logística.\n>     *   Casos de sucesso de empresas que já implementaram agentes de IA.\n> 3.  **O Impacto no Futuro do Trabalho:**\n>     *   Como os agentes de IA estão transformando o mercado de trabalho.\n>     *   Habilidades que os profissionais precisam desenvolver para se manterem relevantes.\n>     *   Oportunidades de colaboração entre humanos e agentes de IA.\n> 4.  **Desafios Éticos e Regulamentação:**\n>     *   A importância da privacidade de dados e da transparência nos algoritmos.\n>     *   Discussão sobre a regulamentação dos agentes de IA no Brasil e no mundo.\n>     *   Como garantir que o avanço tecnológico seja inclusivo e sustentável.\n> 5.  **Conclusão:**\n>     *   O futuro promissor dos agentes de IA e seu potencial para transformar a sociedade.\n>     *   A necessidade de um debate amplo sobre os desafios éticos e a regulamentação.\n> \n> Este plano aborda os pontos mais relevantes sobre agentes de IA, desde suas aplicações práticas até os desafios éticos e regulatórios. Ele oferece um conteúdo informativo e relevante para o público, incentivando a discussão e o entendimento sobre essa tecnologia em ascensão.\n> \n"
          },
          "metadata": {}
        },
        {
          "output_type": "stream",
          "name": "stdout",
          "text": [
            "--------------------------------------------------------------\n",
            "\n",
            "--- 📝 Resultado do Agente 3 (Redator) ---\n",
            "\n"
          ]
        },
        {
          "output_type": "display_data",
          "data": {
            "text/plain": [
              "<IPython.core.display.Markdown object>"
            ],
            "text/markdown": "> 🚀 Prepare-se para o futuro: os Agentes de IA estão chegando com tudo! 🤖\n> \n> Você sabe o que são Agentes de IA e como eles estão revolucionando o mercado? 🤔\n> \n> Diferente da IA tradicional, os Agentes de IA são sistemas autônomos que pensam e agem sozinhos! 🤯 Eles já estão sendo usados em e-commerce, saúde, finanças e muito mais. \n> \n> Mas calma! ⚠️ Em vez de substituir empregos, eles vêm para automatizar tarefas repetitivas e liberar nosso tempo para o que realmente importa: criatividade e inovação! ✨\n> \n> E não se esqueça: com grandes poderes, vêm grandes responsabilidades! 🕸️ Precisamos discutir a privacidade dos dados, evitar o viés nos algoritmos e garantir que essa tecnologia seja inclusiva e ética. 😉\n> \n> Quer saber mais sobre essa revolução? ➡️ Fique ligado na Alura para não perder nenhum detalhe!\n> \n> #AgentesDeIA #InteligenciaArtificial #Alura #FuturoDoTrabalho\n> \n"
          },
          "metadata": {}
        },
        {
          "output_type": "stream",
          "name": "stdout",
          "text": [
            "--------------------------------------------------------------\n",
            "\n",
            "--- 📝 Resultado do Agente 4 (Revisor) ---\n",
            "\n"
          ]
        },
        {
          "output_type": "display_data",
          "data": {
            "text/plain": [
              "<IPython.core.display.Markdown object>"
            ],
            "text/markdown": "> O rascunho está bom, mas podemos otimizar alguns pontos para deixá-lo ainda mais interessante e alinhado ao público jovem do Instagram:\n> \n> **Problemas e Sugestões:**\n> \n> *   **Tom:** Algumas expressões podem soar um pouco batidas (\"chegando com tudo\", \"liberar nosso tempo para o que realmente importa\"). Sugiro usar uma linguagem mais autêntica e menos clichê.\n> *   **Emojis:** O uso excessivo de emojis pode distrair. É bom usar para dar ênfase, mas com moderação.\n> *   **Chamada para ação:** A chamada para ação no final (\"Fique ligado na Alura\") pode ser mais direta e envolvente.\n> \n> **Rascunho Revisado:**\n> \n> 🚀 Agentes de IA: A revolução já começou! 🤖\n> \n> Já ouviu falar dos Agentes de IA? 🤔 Eles são a próxima geração da Inteligência Artificial, sistemas que pensam e agem de forma autônoma! 🤯\n> \n> Imagine um mundo onde tarefas repetitivas são automatizadas, te liberando para focar na criatividade e em projetos inovadores. ✨ E-commerce, saúde, finanças... os Agentes de IA já estão transformando diversos setores!\n> \n> Mas não é só isso: essa tecnologia também traz grandes responsabilidades. 🕸️ Precisamos garantir a privacidade dos dados, evitar o viés nos algoritmos e promover uma IA inclusiva e ética. 😉\n> \n> Curioso para saber mais sobre essa revolução? ➡️ Acompanhe a Alura para ficar por dentro de tudo sobre Agentes de IA!\n> \n> #AgentesDeIA #InteligenciaArtificial #Alura #FuturoDoTrabalho\n"
          },
          "metadata": {}
        },
        {
          "output_type": "stream",
          "name": "stdout",
          "text": [
            "--------------------------------------------------------------\n"
          ]
        }
      ]
    }
  ]
}